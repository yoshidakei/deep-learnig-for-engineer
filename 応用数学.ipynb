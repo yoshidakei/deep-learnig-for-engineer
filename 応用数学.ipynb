{
 "cells": [
  {
   "cell_type": "markdown",
   "metadata": {},
   "source": [
    "第1章　線形代数"
   ]
  },
  {
   "cell_type": "markdown",
   "metadata": {},
   "source": [
    "行列はスカラーを表にしたもの（ベクトを並べたもの）であり、ベクトルと行列の積を計算することによって、あるベクトルを別のベクトルに移すことができる。そのため、行列はベクトルの変換装置と考えることができる。\n",
    "\n",
    "ある正方行列Aに正方行列Bをかけてできる行列が単位行列であるとき、行列Bを行列Aの逆行列という。逆行列の存在の有無は、行列式によって確認することができ、行列式が0となるとき逆行列は存在しない。\n",
    "\n",
    "正方行列に対しては固有値分解、正方行列以外の行列に対しては特異値分解と呼ばれる行列の変換方法があり、主成分分析や画像データの次元削減を行う際に使用される。"
   ]
  },
  {
   "cell_type": "markdown",
   "metadata": {},
   "source": [
    "第2章　確率・統計"
   ]
  },
  {
   "cell_type": "markdown",
   "metadata": {},
   "source": [
    "ある事象（X=x）が生じた下で、別の事象（Y=y）が生じる確率を条件付き確率という。条件付き確率の算出には、ベイズ則（ベイズの定理）が用いられる。\n",
    "\n",
    "ある事象と紐づいた確率的に変動する値を確率変数といい、確率変数と確率を分布にしたものを確率分布という。\n",
    "\n",
    "期待値とは、確率を考慮して確率変数を平均した値である。また、分散はそれぞれの確率変数の値が期待値からどれだけズレているかを平均した値である。"
   ]
  },
  {
   "cell_type": "markdown",
   "metadata": {},
   "source": [
    "第3章　情報理論"
   ]
  },
  {
   "cell_type": "markdown",
   "metadata": {},
   "source": [
    "ある事象(x)が起こった際に、その確率（P(x)）が小さいほど情報の珍しさがあり、より多くの情報をもっていると考えることができる。このときの情報量を自己情報量（-log(P(x))）と表し、対数の底が2のとき単位はビット(bit)、対数の底がネイピア数eのとき単位はナット(nat)となる。\n",
    "\n",
    "自己情報量の期待値をシャノンエントロピーといい、自己情報量と確率の積の和をとることによって算出される。"
   ]
  }
 ],
 "metadata": {
  "kernelspec": {
   "display_name": "Python 3",
   "language": "python",
   "name": "python3"
  },
  "language_info": {
   "codemirror_mode": {
    "name": "ipython",
    "version": 3
   },
   "file_extension": ".py",
   "mimetype": "text/x-python",
   "name": "python",
   "nbconvert_exporter": "python",
   "pygments_lexer": "ipython3",
   "version": "3.8.5"
  }
 },
 "nbformat": 4,
 "nbformat_minor": 4
}
